{
 "cells": [
  {
   "cell_type": "markdown",
   "id": "2394078d",
   "metadata": {},
   "source": [
    "# OOP(Object-Oriented Programming)"
   ]
  },
  {
   "cell_type": "markdown",
   "id": "6731be1d",
   "metadata": {},
   "source": [
    "## 객체 지향 프로그래밍\n",
    "\n",
    "- 객체 : 실생활에서 일종의 물건, `속성` 과 `행동`을 가짐\n",
    "- OOP `객체` -> `하나의 프로그램`으로 표현\n",
    "\n",
    "- 클래스 : 객체의 설계도.\n",
    "- 인스턴스(객체)  : 클래스(설계도)에 따라 실제 구현한 것\n",
    "\n",
    "\n",
    "> OOP : 클래스와 객체의 개념을 가지고 세상에 있는 것들을 프로그래밍한 기법"
   ]
  },
  {
   "cell_type": "markdown",
   "id": "3df95d79",
   "metadata": {},
   "source": [
    "## Class\n",
    "- 선언 : `class` 클래스이름 (상속받는객체명):\n",
    "- `속성(attribute)`과 `메소드(method)`를 가짐\n",
    "\n",
    "### 속성(attribute)\n",
    "- 속성 추가 : __init__, self\n",
    "- `__init__` : 객체 초기화 예약함수. 속성을 추가할 때\n",
    "\n"
   ]
  },
  {
   "cell_type": "markdown",
   "id": "6a67cd35",
   "metadata": {},
   "source": [
    "### Tips\n",
    "\n",
    "#### python naming rule\n",
    "\n",
    "- snake_case : 띄어쓰기 -> `_` 사용, `변수, 함수`명 사용 \n",
    "- CamelCase : 띄어쓰기-> `대문자`로, `Class`명에 사용\n",
    "\n",
    "#### 파이썬 __ 의미\n",
    "\n",
    "- `__` : 특수한 예약 함수나 변수, 함수명 변경(맨글링) 사용\n",
    "\n",
    "#### 매직 매소드\n"
   ]
  },
  {
   "cell_type": "markdown",
   "id": "84ef9d01",
   "metadata": {},
   "source": []
  }
 ],
 "metadata": {
  "kernelspec": {
   "display_name": "Python 3",
   "language": "python",
   "name": "python3"
  },
  "language_info": {
   "codemirror_mode": {
    "name": "ipython",
    "version": 3
   },
   "file_extension": ".py",
   "mimetype": "text/x-python",
   "name": "python",
   "nbconvert_exporter": "python",
   "pygments_lexer": "ipython3",
   "version": "3.8.8"
  }
 },
 "nbformat": 4,
 "nbformat_minor": 5
}
