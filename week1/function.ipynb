{
 "cells": [
  {
   "cell_type": "markdown",
   "id": "16a6f41d",
   "metadata": {},
   "source": [
    "# Function and Console I/O"
   ]
  },
  {
   "cell_type": "markdown",
   "id": "b7553a08",
   "metadata": {},
   "source": [
    "## 함수 수행 순서\n",
    "\n",
    "- 함수 부분 제외, 메인 프로그램부터 실행\n",
    "- 함수 호출, 함수 부분을 수행하고 메인으로 돌아옴"
   ]
  },
  {
   "cell_type": "code",
   "execution_count": 1,
   "id": "4e1bd87a",
   "metadata": {},
   "outputs": [
    {
     "name": "stdout",
     "output_type": "stream",
     "text": [
      "x 길이 :  10\n",
      "y 길이 :  20\n",
      "사각형 넓이 :  200\n"
     ]
    }
   ],
   "source": [
    "# 0. 코드 실행, 함수 부분을 M에 올려두고 이를 제외한 메인부터 수행(그래서 함수를 주로 상단에 작성)\n",
    "def cal_rectangle(x,y): # 3. 함수 수행\n",
    "    return x*y\n",
    "\n",
    "# 1. 메인 프로그램 수행\n",
    "rect_x = 10\n",
    "rect_y = 20\n",
    "print(\"x 길이 : \", rect_x)\n",
    "print(\"y 길이 : \", rect_y)\n",
    "\n",
    "# 2. 함수(cal_rectangle) 호출\n",
    "print(\"사각형 넓이 : \", cal_rectangle(rect_x, rect_y)) # 4. 반환 받은 리턴값, 메인 수행"
   ]
  },
  {
   "cell_type": "code",
   "execution_count": 2,
   "id": "cdfb70fc",
   "metadata": {},
   "outputs": [
    {
     "data": {
      "text/plain": [
       "151"
      ]
     },
     "execution_count": 2,
     "metadata": {},
     "output_type": "execute_result"
    }
   ],
   "source": [
    "def f(x):\n",
    "    return 2*x+7\n",
    "    \n",
    "    \n",
    "def g(x):\n",
    "    return x**2\n",
    "\n",
    "x=2\n",
    "\n",
    "f(x)+g(x)+f(g(x))+g(f(x))"
   ]
  },
  {
   "cell_type": "markdown",
   "id": "897917ff",
   "metadata": {},
   "source": [
    "- parameter : 함수의 입력 값이 들어갈 부분(인터페이스)\n",
    "- argument : 실제 parameter에 대입된 값"
   ]
  },
  {
   "cell_type": "code",
   "execution_count": 3,
   "id": "a3f21246",
   "metadata": {},
   "outputs": [
    {
     "name": "stdout",
     "output_type": "stream",
     "text": [
      "11\n"
     ]
    }
   ],
   "source": [
    "# 파라미터 x 에 2 라는 argument 값이 대입이 된 것\n",
    "def f(x):\n",
    "    return 2*x+7\n",
    "\n",
    "\n",
    "print(f(2))"
   ]
  },
  {
   "cell_type": "markdown",
   "id": "62ffc503",
   "metadata": {},
   "source": [
    "## 함수의 형태\n",
    "\n",
    "- parameter 유무, return 값 유무에 따라 함수의 형태가 다름"
   ]
  },
  {
   "cell_type": "code",
   "execution_count": 4,
   "id": "1a690277",
   "metadata": {},
   "outputs": [
    {
     "name": "stdout",
     "output_type": "stream",
     "text": [
      "35\n"
     ]
    }
   ],
   "source": [
    "#print() : 따로 리턴 값이 존재x\n",
    "#case 1 : 파라미터 & 리턴값 X\n",
    "def a():\n",
    "    print(5*7)\n",
    "    \n",
    "#case 2 : 파라미터만\n",
    "def b(x,y):\n",
    "    print(x*y)\n",
    "    \n",
    "#case 3 : 리턴값만\n",
    "def c():\n",
    "    return 5 * 7\n",
    "\n",
    "#case 4 : 파라미터 & 리턴값 O\n",
    "def d(x,y):\n",
    "    return x*y\n",
    "\n",
    "\n",
    "print(d(5,7))"
   ]
  },
  {
   "cell_type": "markdown",
   "id": "90a29e4c",
   "metadata": {},
   "source": [
    "-----"
   ]
  },
  {
   "cell_type": "markdown",
   "id": "73f0f5b8",
   "metadata": {},
   "source": [
    "## Console(Terminal)"
   ]
  },
  {
   "cell_type": "markdown",
   "id": "909a97a6",
   "metadata": {},
   "source": [
    "### 콘솔창 입출력\n",
    "- input() : 입력받기, 실행 > 사용자의 입력을 대기 > 입력된 값을 반환값으로 변수에 할당\n",
    "- print() : 출력하기, ','로 타입이 다른 값들도 연속 출력 가능.<br> \n",
    "  If, 다른 타입을 붙여서 출력 > 형변환 필요 e.g. str(100)"
   ]
  },
  {
   "cell_type": "code",
   "execution_count": 5,
   "id": "502e6a58",
   "metadata": {},
   "outputs": [
    {
     "name": "stdout",
     "output_type": "stream",
     "text": [
      "enter ur name : \n",
      "귀찮다\n",
      "hello 귀찮다\n"
     ]
    }
   ],
   "source": [
    "print('enter ur name : ')\n",
    "someone = input() # string 타입만. \n",
    "print('hello', someone)"
   ]
  },
  {
   "cell_type": "code",
   "execution_count": 6,
   "id": "28e6199d",
   "metadata": {},
   "outputs": [
    {
     "name": "stdout",
     "output_type": "stream",
     "text": [
      "온도입력 : 32.2\n",
      "온도는 ?  32.2\n",
      "<class 'float'>\n"
     ]
    }
   ],
   "source": [
    "#str말고 다른 type으로 입력받고 싶을 때\n",
    "\n",
    "temp = float(input('온도입력 : '))#입력할 때 바로 형변환(str > float)\n",
    "print('온도는 ? ', temp)\n",
    "print(type(temp))"
   ]
  },
  {
   "cell_type": "markdown",
   "id": "bdf6ae9f",
   "metadata": {},
   "source": [
    "### Print Formatting\n",
    "출력 양식 지정해서 출력하기\n",
    "\n",
    "#### 기존 방식\n",
    "- `%-format` : \"%datatype\" %(variable)\n",
    "  - `%s`:문자열 `%c`:문자 1개 `%d`:정수 `%f`:부동소수점\n",
    "  \n",
    "  \n",
    "- `str.format()` : \"내용{datatype}\".format(argument)\n",
    " \n",
    "\n",
    "#### Padding\n",
    "여유공간 지정, 배열 & 소수점 자릿수\n",
    "- %10s(문자열을 위해 10칸 확보), 8.2f(총 8자리 공간 중 소수점은 2자리까지만)\n",
    "- `>` : 오른쪽 정렬, `<` : 왼쪽 정렬\n",
    "\n",
    "#### Naming\n",
    "해당 표시할 내용을 변수로 지정, 입력\n",
    "\n"
   ]
  },
  {
   "cell_type": "code",
   "execution_count": 7,
   "id": "c4c3c5bf",
   "metadata": {},
   "outputs": [
    {
     "name": "stdout",
     "output_type": "stream",
     "text": [
      "I feel happy\n",
      "I ate 3 foods. I feel happy\n",
      "My name is chrome , I'm 22 old.\n",
      "Apple :   5.230 won\n",
      "Apple      :   5.230 won\n",
      "Product : Apple   -   5.230 won\n"
     ]
    }
   ],
   "source": [
    "#%-format\n",
    "\n",
    "num = 3; feel='happy'\n",
    "\n",
    "print('I feel %s' % feel)\n",
    "print('I ate %d foods. I feel %s' % (num, feel))\n",
    "\n",
    "\n",
    "#str.format()\n",
    "\n",
    "age = 22; name = 'chrome'\n",
    "print('My name is {1} , I\\'m {0} old.'.format(age,name))#age는 0번 째{}, name은 1번 째{}\n",
    "print('{0} : {1:7.3f} won'.format('Apple', 5.23))\n",
    "\n",
    "\n",
    "#Padding\n",
    "print('{0:<10s} : {1:>7.3f} won'.format('Apple', 5.23))\n",
    "\n",
    "\n",
    "#Naming\n",
    "print('Product : {name:<7s} - {price:>7.3f} won'.format(name='Apple', price=5.23))"
   ]
  },
  {
   "cell_type": "markdown",
   "id": "e2a0263e",
   "metadata": {},
   "source": [
    "#### 요즘 방식\n",
    "\n",
    "- `f-string` : `f\"{변수명}\"` #default:왼쪽정렬\n",
    "\n",
    "\n",
    "- `%string` \n",
    "\n",
    "\n",
    "- `format`함수 "
   ]
  },
  {
   "cell_type": "code",
   "execution_count": 8,
   "id": "4665227a",
   "metadata": {},
   "outputs": [
    {
     "name": "stdout",
     "output_type": "stream",
     "text": [
      "으아아아 정리하기귀찮\n",
      "정리하기귀찮         \n",
      "정리하기귀찮*********\n",
      "         정리하기귀찮\n",
      "*********정리하기귀찮\n",
      "****정리하기귀찮*****\n",
      "3.14\n"
     ]
    }
   ],
   "source": [
    "#f-string\n",
    "\n",
    "name = '정리하기귀찮'\n",
    "\n",
    "print(f\"으아아아 {name}\")\n",
    "print(f\"{name:15}\")#15칸 확보 & 왼쪽정렬\n",
    "print(f\"{name:*<15}\")#15칸 확보 & 나머지는 * 채우기 & 왼쪽 정렬\n",
    "\n",
    "print(f\"{name:>15}\")#15칸 확보 & 오른쪽 정렬\n",
    "print(f\"{name:*>15}\")#15칸 확보 & 나머지는 * 채우기 & 오른쪽 정렬\n",
    "print(f\"{name:*^15}\")#15칸 확보 & 나머지는 * 채우기 & 가운데 정렬\n",
    "\n",
    "\n",
    "pi = 3.141592653589793\n",
    "print(f\"{pi:.2f}\")#소수점 2자리까지 표현"
   ]
  },
  {
   "cell_type": "markdown",
   "id": "d4bcada9",
   "metadata": {},
   "source": [
    "#### 섭씨 > 화씨\n",
    "\n",
    "변환 : ( ( 9 / 5 ) * 섭씨 ) + 32"
   ]
  },
  {
   "cell_type": "code",
   "execution_count": 9,
   "id": "7521d7f1",
   "metadata": {},
   "outputs": [
    {
     "name": "stdout",
     "output_type": "stream",
     "text": [
      "섭씨를 화씨로, 섭씨온도 입력하세요\n",
      "32.2\n",
      "c :32.2\n",
      "k :89.96\n"
     ]
    }
   ],
   "source": [
    "#c = 32.2 -> k = 89.96\n",
    "def temp_convert(c):\n",
    "    k = ( ( 9 / 5 ) * c ) + 32\n",
    "    return k\n",
    "\n",
    "\n",
    "print('섭씨를 화씨로, 섭씨온도 입력하세요')\n",
    "c = float(input())\n",
    "print(f'c :{c:.1f}')\n",
    "print(f'k :{temp_convert(c):.2f}')\n",
    "\n",
    "\n"
   ]
  },
  {
   "cell_type": "code",
   "execution_count": null,
   "id": "aa036d5d",
   "metadata": {},
   "outputs": [],
   "source": []
  }
 ],
 "metadata": {
  "kernelspec": {
   "display_name": "Python 3",
   "language": "python",
   "name": "python3"
  },
  "language_info": {
   "codemirror_mode": {
    "name": "ipython",
    "version": 3
   },
   "file_extension": ".py",
   "mimetype": "text/x-python",
   "name": "python",
   "nbconvert_exporter": "python",
   "pygments_lexer": "ipython3",
   "version": "3.8.8"
  }
 },
 "nbformat": 4,
 "nbformat_minor": 5
}
