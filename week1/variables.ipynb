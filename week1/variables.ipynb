{
 "cells": [
  {
   "cell_type": "markdown",
   "id": "46927a2d",
   "metadata": {},
   "source": [
    "# List"
   ]
  },
  {
   "cell_type": "markdown",
   "id": "7c58edd8",
   "metadata": {},
   "source": [
    "## 특징\n",
    "\n",
    "- 하나의 list(객체)에 다양한 datatype 존재 가능 \n",
    "#파이썬은 M의 주소를 참조하기 때문, 리스트 속 리스트도 가능"
   ]
  },
  {
   "cell_type": "code",
   "execution_count": 1,
   "id": "3e154c4c",
   "metadata": {},
   "outputs": [],
   "source": [
    "colors = ['red', 'blue', 'green']"
   ]
  },
  {
   "cell_type": "code",
   "execution_count": 2,
   "id": "4f42639d",
   "metadata": {},
   "outputs": [
    {
     "data": {
      "text/plain": [
       "3"
      ]
     },
     "execution_count": 2,
     "metadata": {},
     "output_type": "execute_result"
    }
   ],
   "source": [
    "len(colors)#리스트 길이"
   ]
  },
  {
   "cell_type": "code",
   "execution_count": 26,
   "id": "1330b514",
   "metadata": {},
   "outputs": [],
   "source": [
    "a = ['red', 1, 0.1]"
   ]
  },
  {
   "cell_type": "code",
   "execution_count": 27,
   "id": "d45c5c8e",
   "metadata": {},
   "outputs": [
    {
     "data": {
      "text/plain": [
       "[['red', 'blue', 'green'], 1, 0.1]"
      ]
     },
     "execution_count": 27,
     "metadata": {},
     "output_type": "execute_result"
    }
   ],
   "source": [
    "a[0] = colors\n",
    "a"
   ]
  },
  {
   "cell_type": "markdown",
   "id": "3c206b67",
   "metadata": {},
   "source": [
    "- 메모리 저장 방식 : 해당 리스트 변수에는 리스트 주소값 저장됨"
   ]
  },
  {
   "cell_type": "code",
   "execution_count": 28,
   "id": "749978df",
   "metadata": {},
   "outputs": [],
   "source": [
    "a = [5,4,3,2,1]\n",
    "b = [1,2,3,4,5]"
   ]
  },
  {
   "cell_type": "code",
   "execution_count": 29,
   "id": "d333b9db",
   "metadata": {},
   "outputs": [
    {
     "name": "stdout",
     "output_type": "stream",
     "text": [
      "[5, 4, 3, 2, 1]\n"
     ]
    }
   ],
   "source": [
    "b = a #변수 a가 가리키는 메모리 주소를 b도 가리키게 됨\n",
    "print(b)"
   ]
  },
  {
   "cell_type": "code",
   "execution_count": 32,
   "id": "de156c9a",
   "metadata": {},
   "outputs": [
    {
     "data": {
      "text/plain": [
       "[1, 2, 3, 4, 5]"
      ]
     },
     "execution_count": 32,
     "metadata": {},
     "output_type": "execute_result"
    }
   ],
   "source": [
    "a.sort() #정렬\n",
    "a #[1, 2, 3, 4, 5]\n",
    "b #a랑 같은 곳을 가리키고 있기 때문에 [1, 2, 3, 4, 5]"
   ]
  },
  {
   "cell_type": "markdown",
   "id": "f32dc1cc",
   "metadata": {},
   "source": [
    "## 슬라이싱"
   ]
  },
  {
   "cell_type": "code",
   "execution_count": 3,
   "id": "53527496",
   "metadata": {},
   "outputs": [],
   "source": [
    "cities = ['서울', '부산', '인천', '대구', '대전', '광주', '울산', '수원']"
   ]
  },
  {
   "cell_type": "code",
   "execution_count": 4,
   "id": "94f5e367",
   "metadata": {},
   "outputs": [
    {
     "data": {
      "text/plain": [
       "['광주', '울산', '수원']"
      ]
     },
     "execution_count": 4,
     "metadata": {},
     "output_type": "execute_result"
    }
   ],
   "source": [
    "cities[5 : 10] #광주부터 끝까지(마지막번호보다 큰 숫자) 값 반환"
   ]
  },
  {
   "cell_type": "code",
   "execution_count": 5,
   "id": "c871b6d5",
   "metadata": {},
   "outputs": [
    {
     "name": "stdout",
     "output_type": "stream",
     "text": [
      "['서울', '부산', '인천', '대구', '대전', '광주']  and  ['서울', '부산', '인천', '대구', '대전', '광주', '울산', '수원']\n"
     ]
    }
   ],
   "source": [
    "print(cities[0:6], \" and \", cities[-9:])#0부터 5까지, -9부터 끝까지"
   ]
  },
  {
   "cell_type": "code",
   "execution_count": 6,
   "id": "386a4d1c",
   "metadata": {},
   "outputs": [
    {
     "data": {
      "text/plain": [
       "['서울', '인천', '대전', '울산']"
      ]
     },
     "execution_count": 6,
     "metadata": {},
     "output_type": "execute_result"
    }
   ],
   "source": [
    "cities[0 : 10:2] #2칸씩 점프해서 출력"
   ]
  },
  {
   "cell_type": "code",
   "execution_count": 7,
   "id": "7734642c",
   "metadata": {},
   "outputs": [
    {
     "data": {
      "text/plain": [
       "['수원', '울산', '광주', '대전', '대구', '인천', '부산', '서울']"
      ]
     },
     "execution_count": 7,
     "metadata": {},
     "output_type": "execute_result"
    }
   ],
   "source": [
    "cities[::-1] #처음부터 끝까지 뒤에서부터(-1) 출력"
   ]
  },
  {
   "cell_type": "markdown",
   "id": "edab8dc5",
   "metadata": {},
   "source": [
    "##  Concatenation, is in"
   ]
  },
  {
   "cell_type": "code",
   "execution_count": 8,
   "id": "c8e0ccd6",
   "metadata": {},
   "outputs": [],
   "source": [
    "c1 = ['red', 'blue', 'green']\n",
    "c2 =  ['orange', 'blue', 'black']"
   ]
  },
  {
   "cell_type": "code",
   "execution_count": 9,
   "id": "4a1a80fc",
   "metadata": {},
   "outputs": [
    {
     "data": {
      "text/plain": [
       "['red', 'blue', 'green', 'orange', 'blue', 'black']"
      ]
     },
     "execution_count": 9,
     "metadata": {},
     "output_type": "execute_result"
    }
   ],
   "source": [
    "c1 + c2 #리스트 덧셈연산 = 문자열 덧셈 (Concatenation 발생)"
   ]
  },
  {
   "cell_type": "code",
   "execution_count": 10,
   "id": "0b208d66",
   "metadata": {},
   "outputs": [
    {
     "data": {
      "text/plain": [
       "['yellow', 'blue', 'green']"
      ]
     },
     "execution_count": 10,
     "metadata": {},
     "output_type": "execute_result"
    }
   ],
   "source": [
    "c1[0] = 'yellow'\n",
    "c1"
   ]
  },
  {
   "cell_type": "code",
   "execution_count": 11,
   "id": "f68b78e2",
   "metadata": {},
   "outputs": [
    {
     "data": {
      "text/plain": [
       "['yellow', 'blue', 'green', 'yellow', 'blue', 'green']"
      ]
     },
     "execution_count": 11,
     "metadata": {},
     "output_type": "execute_result"
    }
   ],
   "source": [
    "c1 * 2"
   ]
  },
  {
   "cell_type": "code",
   "execution_count": 12,
   "id": "f0dc72e6",
   "metadata": {},
   "outputs": [
    {
     "data": {
      "text/plain": [
       "True"
      ]
     },
     "execution_count": 12,
     "metadata": {},
     "output_type": "execute_result"
    }
   ],
   "source": [
    "'yellow' in c1"
   ]
  },
  {
   "cell_type": "code",
   "execution_count": 13,
   "id": "8463ba1d",
   "metadata": {},
   "outputs": [
    {
     "data": {
      "text/plain": [
       "False"
      ]
     },
     "execution_count": 13,
     "metadata": {},
     "output_type": "execute_result"
    }
   ],
   "source": [
    "'yellow' in c2"
   ]
  },
  {
   "cell_type": "code",
   "execution_count": 15,
   "id": "4b24b602",
   "metadata": {},
   "outputs": [
    {
     "data": {
      "text/plain": [
       "['yellow', 'blue', 'green', 'orange', 'blue', 'black']"
      ]
     },
     "execution_count": 15,
     "metadata": {},
     "output_type": "execute_result"
    }
   ],
   "source": [
    "total_C = c1 + c2\n",
    "total_C"
   ]
  },
  {
   "cell_type": "markdown",
   "id": "f8629a35",
   "metadata": {},
   "source": [
    "## append, extend, insert, remove, del\n",
    "실제 리스트 값을 직접 변화"
   ]
  },
  {
   "cell_type": "code",
   "execution_count": 16,
   "id": "1b2fc418",
   "metadata": {},
   "outputs": [
    {
     "data": {
      "text/plain": [
       "['yellow', 'blue', 'green', 'white']"
      ]
     },
     "execution_count": 16,
     "metadata": {},
     "output_type": "execute_result"
    }
   ],
   "source": [
    "c1.append('white')#리스트에 값 추가\n",
    "c1"
   ]
  },
  {
   "cell_type": "code",
   "execution_count": 17,
   "id": "4d9ba6b9",
   "metadata": {},
   "outputs": [
    {
     "data": {
      "text/plain": [
       "['yellow', 'blue', 'green', 'white', 'black', 'purple']"
      ]
     },
     "execution_count": 17,
     "metadata": {},
     "output_type": "execute_result"
    }
   ],
   "source": [
    "c1.extend([\"black\", \"purple\"])#리스트에 리스트 추가\n",
    "c1"
   ]
  },
  {
   "cell_type": "code",
   "execution_count": 23,
   "id": "2c0f8774",
   "metadata": {},
   "outputs": [
    {
     "data": {
      "text/plain": [
       "['grey', 'yellow', 'grey', 'blue', 'green', 'white', 'black', 'purple']"
      ]
     },
     "execution_count": 23,
     "metadata": {},
     "output_type": "execute_result"
    }
   ],
   "source": [
    "c1.insert(0,\"grey\") #0번 째 주소에 'grey' 추가\n",
    "c1"
   ]
  },
  {
   "cell_type": "code",
   "execution_count": 24,
   "id": "fe2eedcb",
   "metadata": {},
   "outputs": [
    {
     "data": {
      "text/plain": [
       "['yellow', 'grey', 'blue', 'green', 'white', 'black', 'purple']"
      ]
     },
     "execution_count": 24,
     "metadata": {},
     "output_type": "execute_result"
    }
   ],
   "source": [
    "c1.remove('grey')# 리스트에서 'grey' 삭제, 번호 빠른 것부터 삭제\n",
    "c1"
   ]
  },
  {
   "cell_type": "code",
   "execution_count": 25,
   "id": "62e5ec16",
   "metadata": {},
   "outputs": [
    {
     "name": "stdout",
     "output_type": "stream",
     "text": [
      "['grey', 'blue', 'green', 'white', 'black', 'purple']\n"
     ]
    }
   ],
   "source": [
    "del c1[0] #0번 째 주소 리스트 객체 삭제\n",
    "print(c1)"
   ]
  },
  {
   "cell_type": "markdown",
   "id": "1fe7f1d3",
   "metadata": {},
   "source": [
    "## 패킹과 언패킹\n",
    "- 패킹 : 한 변수에 여러 개 데이터 넣기\n",
    "- 언패킹 : 한 변수의 데이터를 각각의 변수로 반환"
   ]
  },
  {
   "cell_type": "code",
   "execution_count": 36,
   "id": "18ac5b37",
   "metadata": {},
   "outputs": [
    {
     "name": "stdout",
     "output_type": "stream",
     "text": [
      "[1, 2, 3] 1 2 3\n"
     ]
    }
   ],
   "source": [
    "t = [1,2,3] #1,2,3을 변수t에 패킹\n",
    "a, b, c = t #t에 값을 각 변수에 언패킹\n",
    "print(t, a, b, c) #[1, 2, 3] 1 2 3"
   ]
  },
  {
   "cell_type": "markdown",
   "id": "b886931a",
   "metadata": {},
   "source": [
    "## 이차원 리스트\n",
    "- 행렬 : 리스트 속 리스트"
   ]
  },
  {
   "cell_type": "code",
   "execution_count": 37,
   "id": "157575c0",
   "metadata": {},
   "outputs": [
    {
     "name": "stdout",
     "output_type": "stream",
     "text": [
      "[[90, 80, 70, 100], [85, 90, 49, 73], [80, 87, 58, 13]]\n"
     ]
    }
   ],
   "source": [
    "korean = [90,80,70,100]\n",
    "math = [85,90,49,73]\n",
    "english = [80,87,58,13]\n",
    "mid_test = [korean, math, english]#0행, 1행, 2행인 행렬 생성\n",
    "print(mid_test)"
   ]
  },
  {
   "cell_type": "code",
   "execution_count": 38,
   "id": "b7322d32",
   "metadata": {},
   "outputs": [
    {
     "name": "stdout",
     "output_type": "stream",
     "text": [
      "100\n"
     ]
    }
   ],
   "source": [
    "print(mid_test[0][3]) #100"
   ]
  },
  {
   "cell_type": "markdown",
   "id": "ecc0bfc4",
   "metadata": {},
   "source": [
    "## 값의 복사\n",
    "- list는 값을 복사할 때 1차원과 2차원의 복사 방식이 다름\n",
    "- copy : 행렬 복사(값 자체)"
   ]
  },
  {
   "cell_type": "markdown",
   "id": "f24c454d",
   "metadata": {},
   "source": [
    "#### 1차원 : 주소가 아닌 해당 주소에 담긴 값을 복사"
   ]
  },
  {
   "cell_type": "code",
   "execution_count": 34,
   "id": "d976b016",
   "metadata": {},
   "outputs": [],
   "source": [
    "a = [2,4,1,5,9]\n",
    "b = a[:] #a,b가 같은 주소를 가리키지 않고 독립된 공간을 가짐"
   ]
  },
  {
   "cell_type": "code",
   "execution_count": 35,
   "id": "dd9fba72",
   "metadata": {
    "scrolled": true
   },
   "outputs": [
    {
     "data": {
      "text/plain": [
       "[2, 4, 1, 5, 9]"
      ]
     },
     "execution_count": 35,
     "metadata": {},
     "output_type": "execute_result"
    }
   ],
   "source": [
    "a.sort()\n",
    "b #값 자체를 복사해왔기 때문에 b에는 영향x"
   ]
  },
  {
   "cell_type": "markdown",
   "id": "e1258b2f",
   "metadata": {},
   "source": [
    "#### 2차원"
   ]
  },
  {
   "cell_type": "code",
   "execution_count": 39,
   "id": "79e5956f",
   "metadata": {},
   "outputs": [],
   "source": [
    "import copy"
   ]
  },
  {
   "cell_type": "code",
   "execution_count": 40,
   "id": "94fa049a",
   "metadata": {},
   "outputs": [
    {
     "data": {
      "text/plain": [
       "[[100, 80, 70, 100], [85, 90, 49, 73], [80, 87, 58, 13]]"
      ]
     },
     "execution_count": 40,
     "metadata": {},
     "output_type": "execute_result"
    }
   ],
   "source": [
    "midtest_copy = copy.deepcopy(mid_test) #deepcopy : 값 자체를 복사\n",
    "midtest_copy[0][0] = 100\n",
    "midtest_copy"
   ]
  },
  {
   "cell_type": "code",
   "execution_count": 41,
   "id": "fa440090",
   "metadata": {},
   "outputs": [
    {
     "data": {
      "text/plain": [
       "[[90, 80, 70, 100], [85, 90, 49, 73], [80, 87, 58, 13]]"
      ]
     },
     "execution_count": 41,
     "metadata": {},
     "output_type": "execute_result"
    }
   ],
   "source": [
    "mid_test #midtest_copy(복사본)의 값을 변경해도 영향x"
   ]
  },
  {
   "cell_type": "markdown",
   "id": "4c5b7ff0",
   "metadata": {},
   "source": [
    "------"
   ]
  },
  {
   "cell_type": "markdown",
   "id": "e58c93c3",
   "metadata": {},
   "source": [
    "# Function and Console I/O"
   ]
  },
  {
   "cell_type": "code",
   "execution_count": null,
   "id": "6d0c0e11",
   "metadata": {},
   "outputs": [],
   "source": []
  }
 ],
 "metadata": {
  "kernelspec": {
   "display_name": "Python 3",
   "language": "python",
   "name": "python3"
  },
  "language_info": {
   "codemirror_mode": {
    "name": "ipython",
    "version": 3
   },
   "file_extension": ".py",
   "mimetype": "text/x-python",
   "name": "python",
   "nbconvert_exporter": "python",
   "pygments_lexer": "ipython3",
   "version": "3.8.8"
  }
 },
 "nbformat": 4,
 "nbformat_minor": 5
}
